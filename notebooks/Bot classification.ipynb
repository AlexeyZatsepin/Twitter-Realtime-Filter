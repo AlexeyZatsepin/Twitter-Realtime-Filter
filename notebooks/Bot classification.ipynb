{
 "cells": [
  {
   "cell_type": "code",
   "execution_count": 4,
   "metadata": {},
   "outputs": [],
   "source": [
    "import pandas as pd\n",
    "import numpy as np\n",
    "import matplotlib.pyplot as plt\n",
    "import matplotlib as mpl\n",
    "mpl.rcParams['patch.force_edgecolor'] = True\n",
    "import warnings\n",
    "warnings.filterwarnings(\"ignore\")\n",
    "%matplotlib inline"
   ]
  },
  {
   "cell_type": "code",
   "execution_count": 11,
   "metadata": {},
   "outputs": [],
   "source": [
    "filepath = \"../dataset/\"\n",
    "file= filepath +'training_data.csv'\n",
    "\n",
    "training_data = pd.read_csv(file)\n",
    "\n",
    "bag_of_words_bot = 'bot|b0t'"
   ]
  },
  {
   "cell_type": "markdown",
   "metadata": {},
   "source": [
    "# Performing Feature Engineering"
   ]
  },
  {
   "cell_type": "code",
   "execution_count": 12,
   "metadata": {},
   "outputs": [],
   "source": [
    "training_data['screen_name_binary'] = training_data.screen_name.str.contains(bag_of_words_bot, case=False, na=False)\n",
    "training_data['name_binary'] = training_data.name.str.contains(bag_of_words_bot, case=False, na=False)\n",
    "training_data['description_binary'] = training_data.description.str.contains(bag_of_words_bot, case=False, na=False)\n",
    "training_data['status_binary'] = training_data.status.str.contains(bag_of_words_bot, case=False, na=False)\n",
    "training_data['listed_count_binary'] = (training_data.listed_count>20000)==False\n",
    "\n",
    "features = ['screen_name_binary', 'name_binary', 'description_binary', 'status_binary', 'verified', 'followers_count', 'friends_count', 'statuses_count', 'listed_count_binary', 'bot']"
   ]
  },
  {
   "cell_type": "code",
   "execution_count": 13,
   "metadata": {},
   "outputs": [],
   "source": [
    "from sklearn.metrics import accuracy_score, confusion_matrix, classification_report\n",
    "from sklearn.model_selection import train_test_split\n",
    "\n",
    "y = training_data.bot\n",
    "X = training_data[features].iloc[:,:-1]"
   ]
  },
  {
   "cell_type": "markdown",
   "metadata": {},
   "source": [
    "# Implementing Different Models"
   ]
  },
  {
   "cell_type": "code",
   "execution_count": 7,
   "metadata": {},
   "outputs": [],
   "source": [
    "from sklearn.tree import DecisionTreeClassifier\n",
    "from sklearn.naive_bayes import MultinomialNB, GaussianNB\n",
    "from sklearn.ensemble import RandomForestClassifier, GradientBoostingClassifier\n",
    "from sklearn.svm import LinearSVC\n",
    "from sklearn.linear_model import LogisticRegression, Perceptron\n",
    "from sklearn.neighbors import KNeighborsClassifier\n",
    "\n",
    "\n",
    "classificators = [\n",
    "    DecisionTreeClassifier(),\n",
    "    MultinomialNB(),\n",
    "    RandomForestClassifier(),\n",
    "    LinearSVC(),\n",
    "    LogisticRegression(),\n",
    "    GaussianNB(),\n",
    "    KNeighborsClassifier(),\n",
    "    GradientBoostingClassifier(),\n",
    "    Perceptron()\n",
    "]"
   ]
  },
  {
   "cell_type": "code",
   "execution_count": 50,
   "metadata": {},
   "outputs": [],
   "source": [
    "def train_and_test(model):\n",
    "    print(model.__class__.__name__)\n",
    "    X_train, X_test, y_train, y_test = train_test_split(X, y, test_size=0.3, random_state=101)\n",
    "\n",
    "    model = model.fit(X_train, y_train)\n",
    "    y_pred_train = model.predict(X_train)\n",
    "    y_pred_test = model.predict(X_test)\n",
    "\n",
    "    print(\"Trainig Accuracy: %.5f\" %accuracy_score(y_train, y_pred_train))\n",
    "    print(\"Test Accuracy: %.5f\" %accuracy_score(y_test, y_pred_test))\n",
    "    print(\"Confusion matrix: \")\n",
    "    print(confusion_matrix(y_test, y_pred_test))\n",
    "    print(\"Classification report: \")\n",
    "    print(classification_report(y_test, y_pred_test))\n",
    "    print()\n",
    "    return X_train, X_test, y_train, y_test, model"
   ]
  },
  {
   "cell_type": "code",
   "execution_count": 51,
   "metadata": {},
   "outputs": [
    {
     "name": "stdout",
     "output_type": "stream",
     "text": [
      "DecisionTreeClassifier\n",
      "Trainig Accuracy: 1.00000\n",
      "Test Accuracy: 0.86905\n",
      "Confusion matrix: \n",
      "[[377  46]\n",
      " [ 64 353]]\n",
      "Classification report: \n",
      "              precision    recall  f1-score   support\n",
      "\n",
      "           0       0.85      0.89      0.87       423\n",
      "           1       0.88      0.85      0.87       417\n",
      "\n",
      "   micro avg       0.87      0.87      0.87       840\n",
      "   macro avg       0.87      0.87      0.87       840\n",
      "weighted avg       0.87      0.87      0.87       840\n",
      "\n",
      "\n",
      "MultinomialNB\n",
      "Trainig Accuracy: 0.68063\n",
      "Test Accuracy: 0.69762\n",
      "Confusion matrix: \n",
      "[[181 242]\n",
      " [ 12 405]]\n",
      "Classification report: \n",
      "              precision    recall  f1-score   support\n",
      "\n",
      "           0       0.94      0.43      0.59       423\n",
      "           1       0.63      0.97      0.76       417\n",
      "\n",
      "   micro avg       0.70      0.70      0.70       840\n",
      "   macro avg       0.78      0.70      0.67       840\n",
      "weighted avg       0.78      0.70      0.67       840\n",
      "\n",
      "\n",
      "RandomForestClassifier\n",
      "Trainig Accuracy: 0.99029\n",
      "Test Accuracy: 0.89286\n",
      "Confusion matrix: \n",
      "[[389  34]\n",
      " [ 56 361]]\n",
      "Classification report: \n",
      "              precision    recall  f1-score   support\n",
      "\n",
      "           0       0.87      0.92      0.90       423\n",
      "           1       0.91      0.87      0.89       417\n",
      "\n",
      "   micro avg       0.89      0.89      0.89       840\n",
      "   macro avg       0.89      0.89      0.89       840\n",
      "weighted avg       0.89      0.89      0.89       840\n",
      "\n",
      "\n",
      "LinearSVC\n",
      "Trainig Accuracy: 0.66326\n",
      "Test Accuracy: 0.69048\n",
      "Confusion matrix: \n",
      "[[278 145]\n",
      " [115 302]]\n",
      "Classification report: \n",
      "              precision    recall  f1-score   support\n",
      "\n",
      "           0       0.71      0.66      0.68       423\n",
      "           1       0.68      0.72      0.70       417\n",
      "\n",
      "   micro avg       0.69      0.69      0.69       840\n",
      "   macro avg       0.69      0.69      0.69       840\n",
      "weighted avg       0.69      0.69      0.69       840\n",
      "\n",
      "\n",
      "LogisticRegression\n",
      "Trainig Accuracy: 0.69443\n",
      "Test Accuracy: 0.70238\n",
      "Confusion matrix: \n",
      "[[195 228]\n",
      " [ 22 395]]\n",
      "Classification report: \n",
      "              precision    recall  f1-score   support\n",
      "\n",
      "           0       0.90      0.46      0.61       423\n",
      "           1       0.63      0.95      0.76       417\n",
      "\n",
      "   micro avg       0.70      0.70      0.70       840\n",
      "   macro avg       0.77      0.70      0.68       840\n",
      "weighted avg       0.77      0.70      0.68       840\n",
      "\n",
      "\n",
      "GaussianNB\n",
      "Trainig Accuracy: 0.61932\n",
      "Test Accuracy: 0.64643\n",
      "Confusion matrix: \n",
      "[[131 292]\n",
      " [  5 412]]\n",
      "Classification report: \n",
      "              precision    recall  f1-score   support\n",
      "\n",
      "           0       0.96      0.31      0.47       423\n",
      "           1       0.59      0.99      0.74       417\n",
      "\n",
      "   micro avg       0.65      0.65      0.65       840\n",
      "   macro avg       0.77      0.65      0.60       840\n",
      "weighted avg       0.78      0.65      0.60       840\n",
      "\n",
      "\n",
      "KNeighborsClassifier\n",
      "Trainig Accuracy: 0.86612\n",
      "Test Accuracy: 0.83095\n",
      "Confusion matrix: \n",
      "[[342  81]\n",
      " [ 61 356]]\n",
      "Classification report: \n",
      "              precision    recall  f1-score   support\n",
      "\n",
      "           0       0.85      0.81      0.83       423\n",
      "           1       0.81      0.85      0.83       417\n",
      "\n",
      "   micro avg       0.83      0.83      0.83       840\n",
      "   macro avg       0.83      0.83      0.83       840\n",
      "weighted avg       0.83      0.83      0.83       840\n",
      "\n",
      "\n",
      "GradientBoostingClassifier\n",
      "Trainig Accuracy: 0.93613\n",
      "Test Accuracy: 0.89881\n",
      "Confusion matrix: \n",
      "[[390  33]\n",
      " [ 52 365]]\n",
      "Classification report: \n",
      "              precision    recall  f1-score   support\n",
      "\n",
      "           0       0.88      0.92      0.90       423\n",
      "           1       0.92      0.88      0.90       417\n",
      "\n",
      "   micro avg       0.90      0.90      0.90       840\n",
      "   macro avg       0.90      0.90      0.90       840\n",
      "weighted avg       0.90      0.90      0.90       840\n",
      "\n",
      "\n",
      "Perceptron\n",
      "Trainig Accuracy: 0.68063\n",
      "Test Accuracy: 0.69524\n",
      "Confusion matrix: \n",
      "[[189 234]\n",
      " [ 22 395]]\n",
      "Classification report: \n",
      "              precision    recall  f1-score   support\n",
      "\n",
      "           0       0.90      0.45      0.60       423\n",
      "           1       0.63      0.95      0.76       417\n",
      "\n",
      "   micro avg       0.70      0.70      0.70       840\n",
      "   macro avg       0.76      0.70      0.68       840\n",
      "weighted avg       0.76      0.70      0.68       840\n",
      "\n",
      "\n"
     ]
    }
   ],
   "source": [
    "for model in classificators:\n",
    "    train_and_test(model)"
   ]
  },
  {
   "cell_type": "code",
   "execution_count": 1,
   "metadata": {},
   "outputs": [],
   "source": [
    "import matplotlib.pyplot as plt\n",
    "\n",
    "from sklearn.datasets import make_classification"
   ]
  },
  {
   "cell_type": "code",
   "execution_count": 8,
   "metadata": {},
   "outputs": [
    {
     "data": {
      "text/plain": [
       "RandomForestClassifier(bootstrap=True, class_weight=None, criterion='gini',\n",
       "            max_depth=None, max_features='auto', max_leaf_nodes=None,\n",
       "            min_impurity_decrease=0.0, min_impurity_split=None,\n",
       "            min_samples_leaf=1, min_samples_split=2,\n",
       "            min_weight_fraction_leaf=0.0, n_estimators=250, n_jobs=None,\n",
       "            oob_score=False, random_state=0, verbose=0, warm_start=False)"
      ]
     },
     "execution_count": 8,
     "metadata": {},
     "output_type": "execute_result"
    }
   ],
   "source": [
    "X, y = make_classification(n_samples=training_data.shape[0],\n",
    "                           n_features=8,\n",
    "                           n_informative=3,\n",
    "                           n_redundant=0,\n",
    "                           n_repeated=0,\n",
    "                           n_classes=2,\n",
    "                           random_state=0,\n",
    "                           shuffle=False)\n",
    "forest = RandomForestClassifier(n_estimators=250,\n",
    "                              random_state=0)\n",
    "forest.fit(X, y)"
   ]
  },
  {
   "cell_type": "code",
   "execution_count": 30,
   "metadata": {},
   "outputs": [
    {
     "name": "stdout",
     "output_type": "stream",
     "text": [
      "Feature ranking:\n",
      "1. feature 6 (0.361349)\n",
      "2. feature 5 (0.262729)\n",
      "3. feature 7 (0.163145)\n",
      "4. feature 4 (0.118208)\n",
      "5. feature 2 (0.051039)\n",
      "6. feature 3 (0.016493)\n",
      "7. feature 0 (0.013551)\n",
      "8. feature 1 (0.011866)\n",
      "9. feature 8 (0.001619)\n"
     ]
    },
    {
     "data": {
      "image/png": "[encoded data removed]",
      "text/plain": [
       "<Figure size 432x288 with 1 Axes>"
      ]
     },
     "metadata": {},
     "output_type": "display_data"
    }
   ],
   "source": [
    "forest.fit(X, y)\n",
    "importances = forest.feature_importances_\n",
    "std = np.std([tree.feature_importances_ for tree in forest.estimators_],\n",
    "             axis=0)\n",
    "indices = np.argsort(importances)[::-1]\n",
    "\n",
    "# Print the feature ranking\n",
    "print(\"Feature ranking:\")\n",
    "\n",
    "for f in range(X.shape[1]):\n",
    "    print(\"%d. feature %d (%f)\" % (f + 1, indices[f], importances[indices[f]]))\n",
    "\n",
    "# Plot the feature importances of the forest\n",
    "plt.figure()\n",
    "plt.title(\"Feature importances\")\n",
    "plt.bar(range(X.shape[1]), importances[indices],\n",
    "       color=\"green\", yerr=std[indices], align=\"center\")\n",
    "plt.xticks(range(X.shape[1]), indices)\n",
    "plt.xlim([-1, X.shape[1]])\n",
    "plt.show()"
   ]
  },
  {
   "cell_type": "code",
   "execution_count": 25,
   "metadata": {},
   "outputs": [
    {
     "data": {
      "text/html": [
       "<div>\n",
       "<style scoped>\n",
       "    .dataframe tbody tr th:only-of-type {\n",
       "        vertical-align: middle;\n",
       "    }\n",
       "\n",
       "    .dataframe tbody tr th {\n",
       "        vertical-align: top;\n",
       "    }\n",
       "\n",
       "    .dataframe thead th {\n",
       "        text-align: right;\n",
       "    }\n",
       "</style>\n",
       "<table border=\"1\" class=\"dataframe\">\n",
       "  <thead>\n",
       "    <tr style=\"text-align: right;\">\n",
       "      <th></th>\n",
       "      <th>importance</th>\n",
       "    </tr>\n",
       "  </thead>\n",
       "  <tbody>\n",
       "    <tr>\n",
       "      <th>friends_count</th>\n",
       "      <td>0.361349</td>\n",
       "    </tr>\n",
       "    <tr>\n",
       "      <th>followers_count</th>\n",
       "      <td>0.262729</td>\n",
       "    </tr>\n",
       "    <tr>\n",
       "      <th>statuses_count</th>\n",
       "      <td>0.163145</td>\n",
       "    </tr>\n",
       "    <tr>\n",
       "      <th>verified</th>\n",
       "      <td>0.118208</td>\n",
       "    </tr>\n",
       "    <tr>\n",
       "      <th>description_binary</th>\n",
       "      <td>0.051039</td>\n",
       "    </tr>\n",
       "    <tr>\n",
       "      <th>status_binary</th>\n",
       "      <td>0.016493</td>\n",
       "    </tr>\n",
       "    <tr>\n",
       "      <th>screen_name_binary</th>\n",
       "      <td>0.013551</td>\n",
       "    </tr>\n",
       "    <tr>\n",
       "      <th>name_binary</th>\n",
       "      <td>0.011866</td>\n",
       "    </tr>\n",
       "    <tr>\n",
       "      <th>listed_count_binary</th>\n",
       "      <td>0.001619</td>\n",
       "    </tr>\n",
       "  </tbody>\n",
       "</table>\n",
       "</div>"
      ],
      "text/plain": [
       "                     importance\n",
       "friends_count          0.361349\n",
       "followers_count        0.262729\n",
       "statuses_count         0.163145\n",
       "verified               0.118208\n",
       "description_binary     0.051039\n",
       "status_binary          0.016493\n",
       "screen_name_binary     0.013551\n",
       "name_binary            0.011866\n",
       "listed_count_binary    0.001619"
      ]
     },
     "execution_count": 25,
     "metadata": {},
     "output_type": "execute_result"
    }
   ],
   "source": [
    "import pandas as pd\n",
    "feature_importances = pd.DataFrame(forest.feature_importances_,\n",
    "                                   index = X.columns,\n",
    "                                    columns=['importance']).sort_values('importance', ascending=False)\n",
    "feature_importances"
   ]
  },
  {
   "cell_type": "code",
   "execution_count": 47,
   "metadata": {},
   "outputs": [
    {
     "data": {
      "text/plain": [
       "['model.sav']"
      ]
     },
     "execution_count": 47,
     "metadata": {},
     "output_type": "execute_result"
    }
   ],
   "source": [
    "from sklearn.externals import joblib\n",
    "joblib.dump(forest, 'model.sav') "
   ]
  },
  {
   "cell_type": "code",
   "execution_count": null,
   "metadata": {},
   "outputs": [],
   "source": []
  }
 ],
 "metadata": {
  "kernelspec": {
   "display_name": "Python 3",
   "language": "python",
   "name": "python3"
  },
  "language_info": {
   "codemirror_mode": {
    "name": "ipython",
    "version": 3
   },
   "file_extension": ".py",
   "mimetype": "text/x-python",
   "name": "python",
   "nbconvert_exporter": "python",
   "pygments_lexer": "ipython3",
   "version": "3.6.4"
  }
 },
 "nbformat": 4,
 "nbformat_minor": 2
}

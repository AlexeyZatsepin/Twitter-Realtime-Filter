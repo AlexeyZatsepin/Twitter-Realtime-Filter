{
 "cells": [
  {
   "cell_type": "code",
   "execution_count": 1,
   "metadata": {},
   "outputs": [],
   "source": [
    "import tweepy\n",
    "from tweepy import OAuthHandler\n",
    " \n",
    "consumer_key = 'sLV09OPi3alMMLRk0HRiCu0E7'\n",
    "consumer_secret = 'iKesLG8B91nZLJ84Nc46TeLfhcppV9lDhF5yRFiVg1VNY9elJz'\n",
    "access_token = '3317470103-A5IdrYg3u8cgAmbvvm8asO6JV2vs8UgXBpz0nP8'\n",
    "access_secret = '6Np0ssKOPj903OPG3XZriGCFdgKAT93UWNU1YLuNVqykg'\n",
    " \n",
    "auth = OAuthHandler(consumer_key, consumer_secret)\n",
    "auth.set_access_token(access_token, access_secret)\n",
    " \n",
    "api = tweepy.API(auth)"
   ]
  },
  {
   "cell_type": "code",
   "execution_count": 9,
   "metadata": {},
   "outputs": [
    {
     "name": "stdout",
     "output_type": "stream",
     "text": [
      "Доброго ранку, кияни. \n",
      "Нарешті вихідні, що плануєте робити? https://t.co/oZ8GWn1sD3\n",
      "Good morning, Kiev.\n",
      "Finally the weekend, what do you plan to do? https://t.co/oZ8GWn1sD3\n",
      "Sentiment(polarity=0.35, subjectivity=0.8)\n",
      "Today is the day. COME ON CHELSEA! 💪\n",
      "\n",
      "#CHEMCI https://t.co/f3MkSQItwP\n",
      "Sentiment(polarity=0.0, subjectivity=0.0)\n",
      "RT @nixcraft: me_irl https://t.co/MwOx9vH95P\n",
      "Sentiment(polarity=0.0, subjectivity=0.0)\n",
      "⚽️⚽️⚽️⚽️⚽️⚽️⚽️\n",
      "\n",
      "@LFC have won 4️⃣ of their 6️⃣ #PL matches against Bournemouth (D1 L1), winning both matches last s… https://t.co/ZoF6kNpN7P\n",
      "Sentiment(polarity=0.25, subjectivity=0.4083333333333333)\n",
      "#PL MATCHDAY: Loading...\n",
      "⬛️⬛️⬛️⬛️⬛️⬛️⬛️🔲🔲🔲 https://t.co/FtGekGKgm9\n",
      "Sentiment(polarity=0.0, subjectivity=0.0)\n",
      "Thread 👇 I mean coroutine https://t.co/eiwot3xYMo\n",
      "Sentiment(polarity=-0.3125, subjectivity=0.6875)\n",
      "RT @GoogleDesign: ⚡ Supercharge your #DesignSprint skills w/ new videos from the 2018 Sprint Conference → on rapid prototyping, sprinting f…\n",
      "Sentiment(polarity=0.13636363636363635, subjectivity=0.45454545454545453)\n",
      "🔁🔴🔀⚫️🔄\n",
      "\n",
      "No side has made more changes to their starting XI this season than @ManUtd, who have made 46 in 15 matches… https://t.co/tQIJ5ZdjbG\n",
      "Sentiment(polarity=0.25, subjectivity=0.3)\n",
      "🔵 Bluebirds take flight 🔵\n",
      "\n",
      "@CardiffCityFC have won 3️⃣ of their last 4️⃣ #PL home games, as many as they had manage… https://t.co/wfNfHpu0Dt\n",
      "Sentiment(polarity=0.25, subjectivity=0.2833333333333333)\n",
      "51 of the 86 goals scored in #PL games between @ManUtd vs @FulhamFC have come before half-time, with just two of th… https://t.co/cRSc5AAuPA\n",
      "Sentiment(polarity=0.0, subjectivity=0.0)\n"
     ]
    }
   ],
   "source": [
    "from textblob import TextBlob\n",
    "\n",
    "for status in tweepy.Cursor(api.home_timeline).items(10):\n",
    "    print(status.text)\n",
    "    textblob = TextBlob(status.text)\n",
    "    if textblob.detect_language()!='en':\n",
    "        textblob = textblob.translate(to=\"en\")\n",
    "        print(textblob)\n",
    "    textblob = textblob.correct()\n",
    "    print(textblob.sentiment)"
   ]
  },
  {
   "cell_type": "code",
   "execution_count": null,
   "metadata": {},
   "outputs": [],
   "source": []
  }
 ],
 "metadata": {
  "kernelspec": {
   "display_name": "Python 3",
   "language": "python",
   "name": "python3"
  },
  "language_info": {
   "codemirror_mode": {
    "name": "ipython",
    "version": 3
   },
   "file_extension": ".py",
   "mimetype": "text/x-python",
   "name": "python",
   "nbconvert_exporter": "python",
   "pygments_lexer": "ipython3",
   "version": "3.6.4"
  }
 },
 "nbformat": 4,
 "nbformat_minor": 2
}

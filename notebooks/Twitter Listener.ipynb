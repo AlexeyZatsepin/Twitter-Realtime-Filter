{
 "cells": [
  {
   "cell_type": "code",
   "execution_count": 1,
   "metadata": {},
   "outputs": [],
   "source": [
    "import tweepy\n",
    "from tweepy import OAuthHandler\n",
    " \n",
    "consumer_key = 'sLV09OPi3alMMLRk0HRiCu0E7'\n",
    "consumer_secret = 'iKesLG8B91nZLJ84Nc46TeLfhcppV9lDhF5yRFiVg1VNY9elJz'\n",
    "access_token = '3317470103-A5IdrYg3u8cgAmbvvm8asO6JV2vs8UgXBpz0nP8'\n",
    "access_secret = '6Np0ssKOPj903OPG3XZriGCFdgKAT93UWNU1YLuNVqykg'\n",
    " \n",
    "auth = OAuthHandler(consumer_key, consumer_secret)\n",
    "auth.set_access_token(access_token, access_secret)\n",
    " \n",
    "api = tweepy.API(auth)"
   ]
  },
  {
   "cell_type": "code",
   "execution_count": 2,
   "metadata": {},
   "outputs": [
    {
     "name": "stdout",
     "output_type": "stream",
     "text": [
      "Live from Stamford Bridge, we have drawn Nottingham Forest at home in the FA Cup third round! https://t.co/UjqLy6fJ7n\n",
      "I've started working on the collection artifact on the side. There's some new APIs available today in 1.1.0-alpha01… https://t.co/hIVh9l85NU\n",
      "RT @TeamYouTube: Coming to Android &amp; iOS over the next few weeks... Autoplay on Home!\n",
      "\n",
      "Preview a video while you scroll or watch the whole…\n",
      "RT @YouTubeTV: It's an honor to be the Fan Favorite, @GooglePlay! Thanks to all the TV lovers for making us one of the Best Apps of 2018! #…\n",
      "It's beginning to look a lot like... #CSEdWeek! Kick things off with a look at one educator's experience with… https://t.co/q3CPXe9vGK\n",
      "Зимушка https://t.co/yLqfw7Jp7m\n",
      "New Post: Get All Data from a Table with Hibernate https://t.co/FfNx82WfqA https://t.co/5hfI630Imh\n",
      "🥁Drumroll please! 🥁\n",
      "\n",
      "The winners 🏆of the best apps and games on Google Play for 2018 are….\n",
      "\n",
      "Find out here ↓ https://t.co/tf72rB9tJw\n",
      "Tell us which team you want the Blues to face in the FA Cup third round... 🏆 https://t.co/L5vQ7Rfc60\n",
      "Good evening from Stamford Bridge, where we are getting ready for the FA Cup third round draw! 🏆\n",
      "\n",
      "Rehearsals are cu… https://t.co/9S5ZwL0JIi\n"
     ]
    }
   ],
   "source": [
    "for status in tweepy.Cursor(api.home_timeline).items(10):\n",
    "    print(status.text)"
   ]
  },
  {
   "cell_type": "code",
   "execution_count": 8,
   "metadata": {},
   "outputs": [],
   "source": [
    "from tweepy import Stream\n",
    "from tweepy.streaming import StreamListener\n",
    " \n",
    "class MyListener(StreamListener):\n",
    " \n",
    "    def on_data(self, data):\n",
    "        try:\n",
    "            with open('twitter.json', 'a') as f:\n",
    "                f.write(data)\n",
    "                return True\n",
    "        except BaseException as e:\n",
    "            print(\"Error on_data: %s\" % str(e))\n",
    "        return True\n",
    " \n",
    "    def on_error(self, status):\n",
    "        print(status)\n",
    "        return True"
   ]
  },
  {
   "cell_type": "code",
   "execution_count": 9,
   "metadata": {},
   "outputs": [],
   "source": [
    "def listen(tags = ['#android']):\n",
    "    twitter_stream = Stream(auth, MyListener())\n",
    "    twitter_stream.filter(track = tags)"
   ]
  },
  {
   "cell_type": "code",
   "execution_count": 10,
   "metadata": {},
   "outputs": [],
   "source": [
    "from threading import Thread\n",
    "thread = Thread(target = listen)\n",
    "thread.start()"
   ]
  },
  {
   "cell_type": "code",
   "execution_count": 11,
   "metadata": {},
   "outputs": [
    {
     "name": "stdout",
     "output_type": "stream",
     "text": [
      "['{\"created_at\":\"Mon Dec 03 19:54:20 +0000 2018\",\"id\":1069681259369168896,\"id_str\":\"1069681259369168896\",\"text\":\"#google #android Google releases fix for Pixel 3\\\\u2019s poor RAM management and other bugs https:\\\\/\\\\/t.co\\\\/XLyOy9eFPZ\",\"source\":\"\\\\u003ca href=\\\\\"https:\\\\/\\\\/ifttt.com\\\\\" rel=\\\\\"nofollow\\\\\"\\\\u003eIFTTT\\\\u003c\\\\/a\\\\u003e\",\"truncated\":false,\"in_reply_to_status_id\":null,\"in_reply_to_status_id_str\":null,\"in_reply_to_user_id\":null,\"in_reply_to_user_id_str\":null,\"in_reply_to_screen_name\":null,\"user\":{\"id\":83673326,\"id_str\":\"83673326\",\"name\":\"Sidki kboubi\",\"screen_name\":\"SidkiTn\",\"location\":\"Nice\",\"url\":\"http:\\\\/\\\\/sidki-kboubi.com\",\"description\":\"Mobile & Software Engineer @agenceCKCnet | Project Management Student @polytechnice | Representative @mozilla | Ambassador @fedora | Trainer @JeunesScience\",\"translator_type\":\"none\",\"protected\":false,\"verified\":false,\"followers_count\":471,\"friends_count\":204,\"listed_count\":116,\"favourites_count\":35,\"statuses_count\":11107,\"created_at\":\"Mon Oct 19 19:44:58 +0000 2009\",\"utc_offset\":null,\"time_zone\":null,\"geo_enabled\":true,\"lang\":\"fr\",\"contributors_enabled\":false,\"is_translator\":false,\"profile_background_color\":\"C0DEED\",\"profile_background_image_url\":\"http:\\\\/\\\\/abs.twimg.com\\\\/images\\\\/themes\\\\/theme1\\\\/bg.png\",\"profile_background_image_url_https\":\"https:\\\\/\\\\/abs.twimg.com\\\\/images\\\\/themes\\\\/theme1\\\\/bg.png\",\"profile_background_tile\":false,\"profile_link_color\":\"0084B4\",\"profile_sidebar_border_color\":\"FFFFFF\",\"profile_sidebar_fill_color\":\"191F22\",\"profile_text_color\":\"4BB7DF\",\"profile_use_background_image\":false,\"profile_image_url\":\"http:\\\\/\\\\/pbs.twimg.com\\\\/profile_images\\\\/620172001798393856\\\\/sKAEAVt__normal.jpg\",\"profile_image_url_https\":\"https:\\\\/\\\\/pbs.twimg.com\\\\/profile_images\\\\/620172001798393856\\\\/sKAEAVt__normal.jpg\",\"profile_banner_url\":\"https:\\\\/\\\\/pbs.twimg.com\\\\/profile_banners\\\\/83673326\\\\/1388946898\",\"default_profile\":false,\"default_profile_image\":false,\"following\":null,\"follow_request_sent\":null,\"notifications\":null},\"geo\":null,\"coordinates\":null,\"place\":null,\"contributors\":null,\"is_quote_status\":false,\"quote_count\":0,\"reply_count\":0,\"retweet_count\":0,\"favorite_count\":0,\"entities\":{\"hashtags\":[{\"text\":\"google\",\"indices\":[0,7]},{\"text\":\"android\",\"indices\":[8,16]}],\"urls\":[{\"url\":\"https:\\\\/\\\\/t.co\\\\/XLyOy9eFPZ\",\"expanded_url\":\"https:\\\\/\\\\/ift.tt\\\\/2U5IVGh\",\"display_url\":\"ift.tt\\\\/2U5IVGh\",\"indices\":[86,109]}],\"user_mentions\":[],\"symbols\":[]},\"favorited\":false,\"retweeted\":false,\"possibly_sensitive\":false,\"filter_level\":\"low\",\"lang\":\"en\",\"timestamp_ms\":\"1543866860607\"}\\n', '{\"created_at\":\"Mon Dec 03 19:54:24 +0000 2018\",\"id\":1069681274409885696,\"id_str\":\"1069681274409885696\",\"text\":\"RT @srj_art: Throwback art! From April 2017. I was depressed then too, but much worse! Survived it. Will survive this. And this is still a\\\\u2026\",\"source\":\"\\\\u003ca href=\\\\\"http:\\\\/\\\\/twitter.com\\\\\" rel=\\\\\"nofollow\\\\\"\\\\u003eTwitter Web Client\\\\u003c\\\\/a\\\\u003e\",\"truncated\":false,\"in_reply_to_status_id\":null,\"in_reply_to_status_id_str\":null,\"in_reply_to_user_id\":null,\"in_reply_to_user_id_str\":null,\"in_reply_to_screen_name\":null,\"user\":{\"id\":2508337502,\"id_str\":\"2508337502\",\"name\":\"Renzo\",\"screen_name\":\"LorenzoDPalermo\",\"location\":\"Montr\\\\u00e9al, Qu\\\\u00e9bec\",\"url\":\"http:\\\\/\\\\/renzo1991.deviantart.com\\\\/\",\"description\":\"I\\'m the most famous guy you never heard of. I\\'m a Comic Book fan and creator. Most of my work was done with invisible oink... I mean ink.\\\\ud83d\\\\udc37\",\"translator_type\":\"none\",\"protected\":false,\"verified\":false,\"followers_count\":1032,\"friends_count\":2146,\"listed_count\":28,\"favourites_count\":33493,\"statuses_count\":8015,\"created_at\":\"Mon May 19 20:15:36 +0000 2014\",\"utc_offset\":null,\"time_zone\":null,\"geo_enabled\":false,\"lang\":\"en\",\"contributors_enabled\":false,\"is_translator\":false,\"profile_background_color\":\"709397\",\"profile_background_image_url\":\"http:\\\\/\\\\/abs.twimg.com\\\\/images\\\\/themes\\\\/theme6\\\\/bg.gif\",\"profile_background_image_url_https\":\"https:\\\\/\\\\/abs.twimg.com\\\\/images\\\\/themes\\\\/theme6\\\\/bg.gif\",\"profile_background_tile\":false,\"profile_link_color\":\"008000\",\"profile_sidebar_border_color\":\"FFFFFF\",\"profile_sidebar_fill_color\":\"A0C5C7\",\"profile_text_color\":\"333333\",\"profile_use_background_image\":true,\"profile_image_url\":\"http:\\\\/\\\\/pbs.twimg.com\\\\/profile_images\\\\/1053763526861484033\\\\/wGaFP4pz_normal.jpg\",\"profile_image_url_https\":\"https:\\\\/\\\\/pbs.twimg.com\\\\/profile_images\\\\/1053763526861484033\\\\/wGaFP4pz_normal.jpg\",\"profile_banner_url\":\"https:\\\\/\\\\/pbs.twimg.com\\\\/profile_banners\\\\/2508337502\\\\/1528468206\",\"default_profile\":false,\"default_profile_image\":false,\"following\":null,\"follow_request_sent\":null,\"notifications\":null},\"geo\":null,\"coordinates\":null,\"place\":null,\"contributors\":null,\"retweeted_status\":{\"created_at\":\"Mon Dec 03 19:15:04 +0000 2018\",\"id\":1069671379048517633,\"id_str\":\"1069671379048517633\",\"text\":\"Throwback art! From April 2017. I was depressed then too, but much worse! Survived it. Will survive this. And this\\\\u2026 https:\\\\/\\\\/t.co\\\\/Uu7cBrZIgl\",\"display_text_range\":[0,140],\"source\":\"\\\\u003ca href=\\\\\"http:\\\\/\\\\/twitter.com\\\\/download\\\\/iphone\\\\\" rel=\\\\\"nofollow\\\\\"\\\\u003eTwitter for iPhone\\\\u003c\\\\/a\\\\u003e\",\"truncated\":true,\"in_reply_to_status_id\":null,\"in_reply_to_status_id_str\":null,\"in_reply_to_user_id\":null,\"in_reply_to_user_id_str\":null,\"in_reply_to_screen_name\":null,\"user\":{\"id\":252716494,\"id_str\":\"252716494\",\"name\":\"Samantha Johnson\",\"screen_name\":\"srj_art\",\"location\":\"Wisconsin, USA\",\"url\":\"https:\\\\/\\\\/www.patreon.com\\\\/srj_art\",\"description\":\"Professional #Illustrator & #FantasyArt Enthusiast. Cartoon Junky. Occasional Idiot. commission status: closed http:\\\\/\\\\/www.therealmofsam.etsy.com\",\"translator_type\":\"none\",\"protected\":false,\"verified\":false,\"followers_count\":223,\"friends_count\":125,\"listed_count\":13,\"favourites_count\":2301,\"statuses_count\":3048,\"created_at\":\"Tue Feb 15 19:22:55 +0000 2011\",\"utc_offset\":null,\"time_zone\":null,\"geo_enabled\":true,\"lang\":\"en\",\"contributors_enabled\":false,\"is_translator\":false,\"profile_background_color\":\"000000\",\"profile_background_image_url\":\"http:\\\\/\\\\/abs.twimg.com\\\\/images\\\\/themes\\\\/theme9\\\\/bg.gif\",\"profile_background_image_url_https\":\"https:\\\\/\\\\/abs.twimg.com\\\\/images\\\\/themes\\\\/theme9\\\\/bg.gif\",\"profile_background_tile\":false,\"profile_link_color\":\"FA743E\",\"profile_sidebar_border_color\":\"000000\",\"profile_sidebar_fill_color\":\"000000\",\"profile_text_color\":\"000000\",\"profile_use_background_image\":false,\"profile_image_url\":\"http:\\\\/\\\\/pbs.twimg.com\\\\/profile_images\\\\/1058849597643255808\\\\/1px97TOU_normal.jpg\",\"profile_image_url_https\":\"https:\\\\/\\\\/pbs.twimg.com\\\\/profile_images\\\\/1058849597643255808\\\\/1px97TOU_normal.jpg\",\"profile_banner_url\":\"https:\\\\/\\\\/pbs.twimg.com\\\\/profile_banners\\\\/252716494\\\\/1469043110\",\"default_profile\":false,\"default_profile_image\":false,\"following\":null,\"follow_request_sent\":null,\"notifications\":null},\"geo\":null,\"coordinates\":null,\"place\":null,\"contributors\":null,\"is_quote_status\":false,\"extended_tweet\":{\"full_text\":\"Throwback art! From April 2017. I was depressed then too, but much worse! Survived it. Will survive this. And this is still a special piece to me. Just pencil. \\\\n\\\\n#pencildrawing #android #cyberpunk https:\\\\/\\\\/t.co\\\\/ek49Z2lFI7\",\"display_text_range\":[0,196],\"entities\":{\"hashtags\":[{\"text\":\"pencildrawing\",\"indices\":[162,176]},{\"text\":\"android\",\"indices\":[177,185]},{\"text\":\"cyberpunk\",\"indices\":[186,196]}],\"urls\":[],\"user_mentions\":[],\"symbols\":[],\"media\":[{\"id\":1069671367233007616,\"id_str\":\"1069671367233007616\",\"indices\":[197,220],\"media_url\":\"http:\\\\/\\\\/pbs.twimg.com\\\\/media\\\\/Dtg8cO5UcAA28oF.jpg\",\"media_url_https\":\"https:\\\\/\\\\/pbs.twimg.com\\\\/media\\\\/Dtg8cO5UcAA28oF.jpg\",\"url\":\"https:\\\\/\\\\/t.co\\\\/ek49Z2lFI7\",\"display_url\":\"pic.twitter.com\\\\/ek49Z2lFI7\",\"expanded_url\":\"https:\\\\/\\\\/twitter.com\\\\/srj_art\\\\/status\\\\/1069671379048517633\\\\/photo\\\\/1\",\"type\":\"photo\",\"sizes\":{\"thumb\":{\"w\":150,\"h\":150,\"resize\":\"crop\"},\"small\":{\"w\":680,\"h\":680,\"resize\":\"fit\"},\"medium\":{\"w\":1200,\"h\":1200,\"resize\":\"fit\"},\"large\":{\"w\":2048,\"h\":2048,\"resize\":\"fit\"}}}]},\"extended_entities\":{\"media\":[{\"id\":1069671367233007616,\"id_str\":\"1069671367233007616\",\"indices\":[197,220],\"media_url\":\"http:\\\\/\\\\/pbs.twimg.com\\\\/media\\\\/Dtg8cO5UcAA28oF.jpg\",\"media_url_https\":\"https:\\\\/\\\\/pbs.twimg.com\\\\/media\\\\/Dtg8cO5UcAA28oF.jpg\",\"url\":\"https:\\\\/\\\\/t.co\\\\/ek49Z2lFI7\",\"display_url\":\"pic.twitter.com\\\\/ek49Z2lFI7\",\"expanded_url\":\"https:\\\\/\\\\/twitter.com\\\\/srj_art\\\\/status\\\\/1069671379048517633\\\\/photo\\\\/1\",\"type\":\"photo\",\"sizes\":{\"thumb\":{\"w\":150,\"h\":150,\"resize\":\"crop\"},\"small\":{\"w\":680,\"h\":680,\"resize\":\"fit\"},\"medium\":{\"w\":1200,\"h\":1200,\"resize\":\"fit\"},\"large\":{\"w\":2048,\"h\":2048,\"resize\":\"fit\"}}}]}},\"quote_count\":0,\"reply_count\":0,\"retweet_count\":1,\"favorite_count\":1,\"entities\":{\"hashtags\":[],\"urls\":[{\"url\":\"https:\\\\/\\\\/t.co\\\\/Uu7cBrZIgl\",\"expanded_url\":\"https:\\\\/\\\\/twitter.com\\\\/i\\\\/web\\\\/status\\\\/1069671379048517633\",\"display_url\":\"twitter.com\\\\/i\\\\/web\\\\/status\\\\/1\\\\u2026\",\"indices\":[116,139]}],\"user_mentions\":[],\"symbols\":[]},\"favorited\":false,\"retweeted\":false,\"possibly_sensitive\":false,\"filter_level\":\"low\",\"lang\":\"en\"},\"is_quote_status\":false,\"quote_count\":0,\"reply_count\":0,\"retweet_count\":0,\"favorite_count\":0,\"entities\":{\"hashtags\":[],\"urls\":[],\"user_mentions\":[{\"screen_name\":\"srj_art\",\"name\":\"Samantha Johnson\",\"id\":252716494,\"id_str\":\"252716494\",\"indices\":[3,11]}],\"symbols\":[]},\"favorited\":false,\"retweeted\":false,\"filter_level\":\"low\",\"lang\":\"en\",\"timestamp_ms\":\"1543866864193\"}\\n']\n"
     ]
    }
   ],
   "source": [
    "with open('twitter.json', 'r') as f:\n",
    "    print(f.readlines())"
   ]
  },
  {
   "cell_type": "code",
   "execution_count": null,
   "metadata": {},
   "outputs": [],
   "source": []
  }
 ],
 "metadata": {
  "kernelspec": {
   "display_name": "Python 3",
   "language": "python",
   "name": "python3"
  },
  "language_info": {
   "codemirror_mode": {
    "name": "ipython",
    "version": 3
   },
   "file_extension": ".py",
   "mimetype": "text/x-python",
   "name": "python",
   "nbconvert_exporter": "python",
   "pygments_lexer": "ipython3",
   "version": "3.6.4"
  }
 },
 "nbformat": 4,
 "nbformat_minor": 2
}
